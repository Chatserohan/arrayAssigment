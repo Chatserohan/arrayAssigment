{
 "cells": [
  {
   "cell_type": "markdown",
   "metadata": {},
   "source": [
    "1. Given an array, check if it contains any duplicates or not.\n",
    "arr = [1, 2, 4, 2, 5, 9]\n",
    "Output = True"
   ]
  },
  {
   "cell_type": "code",
   "execution_count": 4,
   "metadata": {},
   "outputs": [
    {
     "data": {
      "text/plain": [
       "'Array contains duppliactes of [2] '"
      ]
     },
     "execution_count": 4,
     "metadata": {},
     "output_type": "execute_result"
    }
   ],
   "source": [
    "arr=[1,2,4,2,5,9]\n",
    "\n",
    "def func1(arr):\n",
    "    isDuplicate=1\n",
    "    l=[]\n",
    "    dl=[]\n",
    "    for i in arr:\n",
    "        if i in l:\n",
    "            isDuplicate*=0\n",
    "            dl.append(i)\n",
    "        l.append(i)\n",
    "    if isDuplicate ==0:\n",
    "        return f'Array contains duplicates of {dl} ' \n",
    "    return 'Array do not contain duplicates'\n",
    "\n",
    "func1(arr)\n"
   ]
  },
  {
   "cell_type": "markdown",
   "metadata": {},
   "source": [
    "2. Given an array and an integer k, rotate the array to the right by k steps.\n",
    "arr = [1, 2, 3, 4, 5, 6, 7] k = 3\n",
    "Output = [5, 6, 7, 1, 2, 3, 4]"
   ]
  },
  {
   "cell_type": "code",
   "execution_count": 57,
   "metadata": {},
   "outputs": [
    {
     "data": {
      "text/plain": [
       "[5, 6, 7, 1, 2, 3, 4]"
      ]
     },
     "execution_count": 57,
     "metadata": {},
     "output_type": "execute_result"
    }
   ],
   "source": [
    "arr=[1,2,3,4,5,6,7]\n",
    "k=3\n",
    "output=[5,6,7,1,2,3,4]\n",
    "\n",
    "def rotate(arr,k):\n",
    "    if k>len(arr):\n",
    "        return 'index out of range'\n",
    "    arr2=arr\n",
    "    l1=[]\n",
    "    for i in range(len(arr2)-k+1,len(arr2)+1):\n",
    "        l1.append(i)\n",
    "        arr2.remove(i)\n",
    "    rotatedArr=l1+arr2 \n",
    "    return rotatedArr\n",
    "\n",
    "   \n",
    "rotate(arr,k)"
   ]
  },
  {
   "cell_type": "markdown",
   "metadata": {},
   "source": [
    "3. Reverse the given array in-place, means without using any extra data structure.\n",
    "arr = [2, 4, 5, 7, 9, 12]\n",
    "Output = [12, 9, 7, 5, 4, 2]"
   ]
  },
  {
   "cell_type": "code",
   "execution_count": 65,
   "metadata": {},
   "outputs": [
    {
     "data": {
      "text/plain": [
       "[12, 9, 7, 5, 4, 2]"
      ]
     },
     "execution_count": 65,
     "metadata": {},
     "output_type": "execute_result"
    }
   ],
   "source": [
    "arr=[2,4,5,7,9,12]\n",
    "\n",
    "def reverse(arr):\n",
    "    for i in range(len(arr)//2):\n",
    "        arr[i],arr[len(arr)-i-1]=arr[len(arr)-i-1],arr[i]\n",
    "        \n",
    "    return arr \n",
    "reverse(arr)\n",
    "        "
   ]
  },
  {
   "cell_type": "markdown",
   "metadata": {},
   "source": [
    "4. Given an array of integers, find the maximum element in an array\n",
    "arr = [10, 5, 20, 8, 15]\n",
    "Output = 20"
   ]
  },
  {
   "cell_type": "code",
   "execution_count": 14,
   "metadata": {},
   "outputs": [
    {
     "data": {
      "text/plain": [
       "20"
      ]
     },
     "execution_count": 14,
     "metadata": {},
     "output_type": "execute_result"
    }
   ],
   "source": [
    "def findMax(arr):\n",
    "    max=[]\n",
    "    for i in arr :\n",
    "        for j in arr:\n",
    "            if j>i:\n",
    "                max.append(j)\n",
    "    return max[0]\n",
    "\n",
    "arr = [10, 5, 20, 8, 15]\n",
    "\n",
    "\n",
    "findMax(arr)"
   ]
  },
  {
   "cell_type": "markdown",
   "metadata": {},
   "source": [
    "5. Given a sorted array, remove the duplicate element without using any extra data structure.\n",
    "arr = [1, 1, 2, 2, 2, 3, 3, 4, 4, 4, 5, 5]\n",
    "Output = [1, 2, 3, 4, 5]"
   ]
  },
  {
   "cell_type": "code",
   "execution_count": 22,
   "metadata": {},
   "outputs": [
    {
     "data": {
      "text/plain": [
       "[1, 2, 3, 4, 5]"
      ]
     },
     "execution_count": 22,
     "metadata": {},
     "output_type": "execute_result"
    }
   ],
   "source": [
    "def removeDup(arr):\n",
    "    l=[]\n",
    "    for i in arr:\n",
    "        if i in l:\n",
    "            pass\n",
    "        else:\n",
    "            l.append(i)\n",
    "    return l \n",
    "\n",
    "arr = [1, 1, 2, 2, 2, 3, 3, 4, 4, 4, 5, 5]\n",
    "removeDup(arr)"
   ]
  },
  {
   "cell_type": "code",
   "execution_count": null,
   "metadata": {},
   "outputs": [],
   "source": []
  }
 ],
 "metadata": {
  "kernelspec": {
   "display_name": "Python 3",
   "language": "python",
   "name": "python3"
  },
  "language_info": {
   "codemirror_mode": {
    "name": "ipython",
    "version": 3
   },
   "file_extension": ".py",
   "mimetype": "text/x-python",
   "name": "python",
   "nbconvert_exporter": "python",
   "pygments_lexer": "ipython3",
   "version": "3.8.10"
  }
 },
 "nbformat": 4,
 "nbformat_minor": 2
}
